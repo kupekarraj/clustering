{
 "cells": [
  {
   "cell_type": "code",
   "execution_count": null,
   "metadata": {},
   "outputs": [],
   "source": [
    "# Importing neccessary Libraries\n",
    "import numpy as np\n",
    "import pandas as pd"
   ]
  },
  {
   "cell_type": "code",
   "execution_count": null,
   "metadata": {},
   "outputs": [],
   "source": [
    "# Reading the CSV dataset\n",
    "df=pd.read_csv(\"dataset/Dealer_Export.csv\")\n",
    "\n",
    "#Creating a copy of the dataset\n",
    "df2=df.copy()"
   ]
  },
  {
   "cell_type": "code",
   "execution_count": null,
   "metadata": {},
   "outputs": [],
   "source": [
    "# Defined a function to clean the pacakge info\n",
    "def package_structure(x):\n",
    "    # First check if the value is NaN\n",
    "    if pd.isna(x):\n",
    "        return \"No Package Info\"\n",
    "    # Ensure x is a string before using string operations\n",
    "    x= str(x) # Convert to string to safely use 'in' or 'startswith'\n",
    "    if \"Level 0\" in x:\n",
    "        return \"CZ Level 0 Package\"\n",
    "    elif \"Level 1\" in x:\n",
    "        return \"CZ Level 1 Package\"\n",
    "    elif \"Level 2\" in x:\n",
    "        return \"CZ Level 2 Package\"\n",
    "    elif \"Level 3\" in x:\n",
    "        return \"CZ Level 3 Package\"\n",
    "    elif \"Level 4\" in x:\n",
    "        return \"CZ Level 4 Package\"\n",
    "    elif x.startswith('Accelerate'):\n",
    "        return \"CZ Accelerate Package\"\n",
    "    elif x.startswith('Ignite'):\n",
    "        return \"CZ Ignite Package\"\n",
    "    elif x.startswith('Rev'):\n",
    "        return \"CZ Rev Package\"\n",
    "    else:\n",
    "        return \"Other Package\""
   ]
  },
  {
   "cell_type": "code",
   "execution_count": null,
   "metadata": {},
   "outputs": [],
   "source": [
    "# Data exploration\n",
    "print(f'The shape of the imported data set is: {df.shape}\\n')\n",
    "print(f'The imported dataset has following data types:\\n {df.dtypes}\\n')\n",
    "print(f'The dataset has following count of null values:\\n{df.isna().sum()}\\n')\n",
    "\n",
    "# Printing the top 5 records of the dataset\n",
    "df.head()"
   ]
  },
  {
   "cell_type": "code",
   "execution_count": null,
   "metadata": {},
   "outputs": [],
   "source": [
    "# Dropping rows having null values and storing the output the same dataset\n",
    "df.dropna(subset=[\"trading_name\"], inplace=True)\n",
    "\n",
    "print(f'The modified dataset has following count of null values:\\n{df.isna().sum()}\\n')"
   ]
  },
  {
   "cell_type": "code",
   "execution_count": null,
   "metadata": {},
   "outputs": [],
   "source": [
    "# Checking if there are any duplicate rows in the dataset\n",
    "print(f'The dataset has following duplicate values:\\n {df.duplicated().sum()}\\n')\n",
    "\n",
    "# Checking the unique values in the dataset\n",
    "print(f'The dataset has following representation of unique values:\\n {df.nunique()}\\n')"
   ]
  },
  {
   "cell_type": "code",
   "execution_count": null,
   "metadata": {},
   "outputs": [],
   "source": [
    "# Correcting the data types for certain columns\n",
    "df['did'] = df['did'].astype('object')\n",
    "df['reg_code']=df['reg_code'].astype('object')\n",
    "df['created_date']=pd.to_datetime(df['created_date'])\n",
    "\n",
    "print(f'The modified dataset has following data types:\\n {df.dtypes}\\n')"
   ]
  },
  {
   "cell_type": "code",
   "execution_count": null,
   "metadata": {},
   "outputs": [],
   "source": [
    "# Adding two new columns for Ad Created Month-Year & Package Redefining\n",
    "df['ad_created_in']=df['created_date'].dt.strftime('%b, %Y')\n",
    "df['package_redefined'] = df['package'].apply(package_structure)"
   ]
  },
  {
   "cell_type": "code",
   "execution_count": null,
   "metadata": {},
   "outputs": [],
   "source": [
    "# Dropping unwanted columns from the data frame\n",
    "df.drop(columns=['package','created_date'], inplace=True)\n",
    "\n",
    "# Displaying the final dataset head\n",
    "df.head()"
   ]
  },
  {
   "cell_type": "code",
   "execution_count": null,
   "metadata": {},
   "outputs": [],
   "source": [
    "# Saving the pre-processed dataset back to the dataset folder\n",
    "df.to_csv('dataset/dealer_export_cleaned.csv', index=False)"
   ]
  }
 ],
 "metadata": {
  "kernelspec": {
   "display_name": "venv",
   "language": "python",
   "name": "python3"
  },
  "language_info": {
   "codemirror_mode": {
    "name": "ipython",
    "version": 3
   },
   "file_extension": ".py",
   "mimetype": "text/x-python",
   "name": "python",
   "nbconvert_exporter": "python",
   "pygments_lexer": "ipython3",
   "version": "3.10.9"
  }
 },
 "nbformat": 4,
 "nbformat_minor": 2
}
