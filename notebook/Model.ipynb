{
 "cells": [
  {
   "cell_type": "code",
   "execution_count": 1,
   "metadata": {},
   "outputs": [],
   "source": [
    "# Importing the neccessary libraries\n",
    "import pandas as pd\n",
    "import numpy as np\n",
    "from sklearn.cluster import KMeans\n",
    "from sklearn.preprocessing import LabelEncoder, StandardScaler\n",
    "from sklearn.decomposition import PCA\n",
    "import plotly.express as px"
   ]
  },
  {
   "cell_type": "code",
   "execution_count": 2,
   "metadata": {},
   "outputs": [],
   "source": [
    "# Load dataset\n",
    "df = pd.read_csv(r'dataset/dealer_export.csv')\n",
    "df2=df.copy()"
   ]
  },
  {
   "cell_type": "code",
   "execution_count": null,
   "metadata": {},
   "outputs": [],
   "source": [
    "# Correcting the data types for certain columns\\n\",\n",
    "df['did'] = df['did'].astype('object')\n",
    "df['reg_code']=df['reg_code'].astype('object')"
   ]
  },
  {
   "cell_type": "code",
   "execution_count": null,
   "metadata": {},
   "outputs": [],
   "source": [
    "# Pulling categorical columns\n",
    "categorical=[] # Creating an empty list\n",
    "categorical= [col for col in df.columns if df[col].dtypes==\"O\"] # Storing all the categorical columns here"
   ]
  },
  {
   "cell_type": "code",
   "execution_count": null,
   "metadata": {},
   "outputs": [],
   "source": [
    "# Encode categorical features\n",
    "encoder= LabelEncoder() #Initialising Label Encoder\n",
    "df[categorical] = df[categorical].apply(lambda col: encoder.fit_transform(col))"
   ]
  },
  {
   "cell_type": "code",
   "execution_count": null,
   "metadata": {},
   "outputs": [],
   "source": [
    "# Performing Scaler Trasnformation for numerical features\n",
    "scaler=StandardScaler()\n",
    "df[df.columns]=scaler.fit_transform(df)"
   ]
  },
  {
   "cell_type": "code",
   "execution_count": null,
   "metadata": {},
   "outputs": [],
   "source": [
    "# Determine optimal number of clusters (Elbow Method)\n",
    "inertia = []\n",
    "for k in range(1, 10):\n",
    "    kmeans = KMeans(n_clusters=k, random_state=42)\n",
    "    kmeans.fit(df)\n",
    "    inertia.append(kmeans.inertia_)"
   ]
  },
  {
   "cell_type": "code",
   "execution_count": null,
   "metadata": {},
   "outputs": [],
   "source": [
    "# Create the Elbow graph using Plotly Express\n",
    "fig = px.line(x=range(1, 10), y=inertia, title='Elbow Method', labels={'x': 'Number of Clusters', 'y': 'Inertia'})\n",
    "fig.update_traces(mode='markers+lines')  # Adding markers to the line plot\n",
    "fig.show()"
   ]
  },
  {
   "cell_type": "code",
   "execution_count": null,
   "metadata": {},
   "outputs": [],
   "source": [
    "# Perform KMeans clustering with optimal clusters\n",
    "optimal_clusters = 6  # Set based on the elbow graph\n",
    "kmeans = KMeans(n_clusters=optimal_clusters, random_state=42)\n",
    "clusters = kmeans.fit_predict(df)"
   ]
  },
  {
   "cell_type": "code",
   "execution_count": null,
   "metadata": {},
   "outputs": [],
   "source": [
    "# Add cluster labels to a separate data\n",
    "df2['cluster'] = clusters"
   ]
  },
  {
   "cell_type": "code",
   "execution_count": null,
   "metadata": {},
   "outputs": [],
   "source": [
    "# Reduce dimensions to 3D using PCA\n",
    "pca = PCA(n_components=3)\n",
    "df_pca = pca.fit_transform(df)\n",
    "\n",
    "# Create a DataFrame for the 3D visualization\n",
    "df_viz = pd.DataFrame(df_pca, columns=['PCA1', 'PCA2', 'PCA3'])\n",
    "df_viz['cluster'] = clusters\n",
    "df_viz['trading_name'] = df['trading_name']  # Example for labeling points (optional)\n",
    "\n",
    "# Plot clusters in 3D using Plotly Express\n",
    "fig = px.scatter_3d(\n",
    "    df_viz, x='PCA1', y='PCA2', z='PCA3',\n",
    "    color='cluster', symbol='cluster'\n",
    "    hover_data=['trading_name'],  # Adjust this as needed\n",
    "    title='3D Visualization of Clusters'\n",
    "    )\n",
    "    \n",
    "fig.update_traces(marker=dict(size=5))\n",
    "fig.show()\n",
    "# Save the plot to an HTML file\n",
    "fig.write_html(\"cluster_visualization.html\")\n",
    "print(\"Visualization saved to 'cluster_visualization.html'. Open this file in your browser to view the plot.\")"
   ]
  },
  {
   "cell_type": "code",
   "execution_count": null,
   "metadata": {},
   "outputs": [],
   "source": [
    "# Reduce dimensions to 2D using PCA\n",
    "pca = PCA(n_components=2)\n",
    "df_pca = pca.fit_transform(df)\n",
    "\n",
    "# Create a DataFrame for the 2D visualization\n",
    "df_viz = pd.DataFrame(df_pca, columns=['PCA1', 'PCA2'])\n",
    "df_viz['cluster'] = clusters\n",
    "df_viz['trading_name'] = df['trading_name']  # Example for labeling points (optional)\n",
    "\n",
    "# Plot clusters in 2D using Plotly Express\n",
    "fig = px.scatter(\n",
    "    df_viz, x='PCA1', y='PCA2',\n",
    "    color='cluster', symbol='cluster',\n",
    "    hover_data=['trading_name'],  # Adjust this as needed\n",
    "    title='2D Visualization of Clusters'\n",
    ")\n",
    "\n",
    "fig.update_traces(marker=dict(size=5))\n",
    "fig.show()\n",
    "\n",
    "# Save the plot to an HTML file\n",
    "fig.write_html(\"cluster_visualization_2d.html\")\n",
    "print(\"Visualization saved to 'cluster_visualization_2d.html'. Open this file in your browser to view the plot.\")\n"
   ]
  },
  {
   "cell_type": "code",
   "execution_count": 9,
   "metadata": {},
   "outputs": [],
   "source": [
    "df3=df.drop(df.columns[:2],axis=1)"
   ]
  },
  {
   "cell_type": "code",
   "execution_count": 10,
   "metadata": {},
   "outputs": [
    {
     "data": {
      "text/html": [
       "<div>\n",
       "<style scoped>\n",
       "    .dataframe tbody tr th:only-of-type {\n",
       "        vertical-align: middle;\n",
       "    }\n",
       "\n",
       "    .dataframe tbody tr th {\n",
       "        vertical-align: top;\n",
       "    }\n",
       "\n",
       "    .dataframe thead th {\n",
       "        text-align: right;\n",
       "    }\n",
       "</style>\n",
       "<table border=\"1\" class=\"dataframe\">\n",
       "  <thead>\n",
       "    <tr style=\"text-align: right;\">\n",
       "      <th></th>\n",
       "      <th>Stock Turn</th>\n",
       "      <th>Avg. Days To Sell</th>\n",
       "      <th>Avg. Sale by Year</th>\n",
       "      <th>Count_Live</th>\n",
       "      <th>Count_Sold</th>\n",
       "    </tr>\n",
       "  </thead>\n",
       "  <tbody>\n",
       "    <tr>\n",
       "      <th>0</th>\n",
       "      <td>NaN</td>\n",
       "      <td>NaN</td>\n",
       "      <td>276</td>\n",
       "      <td>0</td>\n",
       "      <td>69</td>\n",
       "    </tr>\n",
       "    <tr>\n",
       "      <th>1</th>\n",
       "      <td>NaN</td>\n",
       "      <td>NaN</td>\n",
       "      <td>20</td>\n",
       "      <td>0</td>\n",
       "      <td>5</td>\n",
       "    </tr>\n",
       "    <tr>\n",
       "      <th>2</th>\n",
       "      <td>NaN</td>\n",
       "      <td>NaN</td>\n",
       "      <td>592</td>\n",
       "      <td>0</td>\n",
       "      <td>148</td>\n",
       "    </tr>\n",
       "    <tr>\n",
       "      <th>3</th>\n",
       "      <td>NaN</td>\n",
       "      <td>NaN</td>\n",
       "      <td>512</td>\n",
       "      <td>0</td>\n",
       "      <td>128</td>\n",
       "    </tr>\n",
       "    <tr>\n",
       "      <th>4</th>\n",
       "      <td>NaN</td>\n",
       "      <td>NaN</td>\n",
       "      <td>412</td>\n",
       "      <td>0</td>\n",
       "      <td>103</td>\n",
       "    </tr>\n",
       "  </tbody>\n",
       "</table>\n",
       "</div>"
      ],
      "text/plain": [
       "   Stock Turn  Avg. Days To Sell  Avg. Sale by Year  Count_Live  Count_Sold\n",
       "0         NaN                NaN                276           0          69\n",
       "1         NaN                NaN                 20           0           5\n",
       "2         NaN                NaN                592           0         148\n",
       "3         NaN                NaN                512           0         128\n",
       "4         NaN                NaN                412           0         103"
      ]
     },
     "execution_count": 10,
     "metadata": {},
     "output_type": "execute_result"
    }
   ],
   "source": [
    "df3.head()"
   ]
  },
  {
   "cell_type": "code",
   "execution_count": 11,
   "metadata": {},
   "outputs": [
    {
     "data": {
      "text/html": [
       "<div>\n",
       "<style scoped>\n",
       "    .dataframe tbody tr th:only-of-type {\n",
       "        vertical-align: middle;\n",
       "    }\n",
       "\n",
       "    .dataframe tbody tr th {\n",
       "        vertical-align: top;\n",
       "    }\n",
       "\n",
       "    .dataframe thead th {\n",
       "        text-align: right;\n",
       "    }\n",
       "</style>\n",
       "<table border=\"1\" class=\"dataframe\">\n",
       "  <thead>\n",
       "    <tr style=\"text-align: right;\">\n",
       "      <th></th>\n",
       "      <th>Stock Turn</th>\n",
       "      <th>Avg. Days To Sell</th>\n",
       "      <th>Avg. Sale by Year</th>\n",
       "      <th>Count_Live</th>\n",
       "      <th>Count_Sold</th>\n",
       "    </tr>\n",
       "  </thead>\n",
       "  <tbody>\n",
       "    <tr>\n",
       "      <th>Stock Turn</th>\n",
       "      <td>1.000000</td>\n",
       "      <td>-0.298079</td>\n",
       "      <td>0.433653</td>\n",
       "      <td>-0.093313</td>\n",
       "      <td>0.433653</td>\n",
       "    </tr>\n",
       "    <tr>\n",
       "      <th>Avg. Days To Sell</th>\n",
       "      <td>-0.298079</td>\n",
       "      <td>1.000000</td>\n",
       "      <td>-0.146970</td>\n",
       "      <td>-0.002273</td>\n",
       "      <td>-0.146970</td>\n",
       "    </tr>\n",
       "    <tr>\n",
       "      <th>Avg. Sale by Year</th>\n",
       "      <td>0.433653</td>\n",
       "      <td>-0.146970</td>\n",
       "      <td>1.000000</td>\n",
       "      <td>0.540756</td>\n",
       "      <td>1.000000</td>\n",
       "    </tr>\n",
       "    <tr>\n",
       "      <th>Count_Live</th>\n",
       "      <td>-0.093313</td>\n",
       "      <td>-0.002273</td>\n",
       "      <td>0.540756</td>\n",
       "      <td>1.000000</td>\n",
       "      <td>0.540756</td>\n",
       "    </tr>\n",
       "    <tr>\n",
       "      <th>Count_Sold</th>\n",
       "      <td>0.433653</td>\n",
       "      <td>-0.146970</td>\n",
       "      <td>1.000000</td>\n",
       "      <td>0.540756</td>\n",
       "      <td>1.000000</td>\n",
       "    </tr>\n",
       "  </tbody>\n",
       "</table>\n",
       "</div>"
      ],
      "text/plain": [
       "                   Stock Turn  Avg. Days To Sell  Avg. Sale by Year  \\\n",
       "Stock Turn           1.000000          -0.298079           0.433653   \n",
       "Avg. Days To Sell   -0.298079           1.000000          -0.146970   \n",
       "Avg. Sale by Year    0.433653          -0.146970           1.000000   \n",
       "Count_Live          -0.093313          -0.002273           0.540756   \n",
       "Count_Sold           0.433653          -0.146970           1.000000   \n",
       "\n",
       "                   Count_Live  Count_Sold  \n",
       "Stock Turn          -0.093313    0.433653  \n",
       "Avg. Days To Sell   -0.002273   -0.146970  \n",
       "Avg. Sale by Year    0.540756    1.000000  \n",
       "Count_Live           1.000000    0.540756  \n",
       "Count_Sold           0.540756    1.000000  "
      ]
     },
     "execution_count": 11,
     "metadata": {},
     "output_type": "execute_result"
    }
   ],
   "source": [
    "df3.corr()"
   ]
  },
  {
   "cell_type": "code",
   "execution_count": 12,
   "metadata": {},
   "outputs": [
    {
     "data": {
      "text/plain": [
       "<bound method boxplot_frame of      Stock Turn  Avg. Days To Sell  Avg. Sale by Year  Count_Live  Count_Sold\n",
       "0           NaN                NaN                276           0          69\n",
       "1           NaN                NaN                 20           0           5\n",
       "2           NaN                NaN                592           0         148\n",
       "3           NaN                NaN                512           0         128\n",
       "4           NaN                NaN                412           0         103\n",
       "..          ...                ...                ...         ...         ...\n",
       "805    1.066667         342.187500                 48          45          12\n",
       "806    1.133333         322.058824                 68          60          17\n",
       "807    7.619048          47.906250                960         126         240\n",
       "808   13.200000          27.651515                264          20          66\n",
       "809    2.554622         142.878289                608         238         152\n",
       "\n",
       "[810 rows x 5 columns]>"
      ]
     },
     "execution_count": 12,
     "metadata": {},
     "output_type": "execute_result"
    }
   ],
   "source": [
    "df3.boxplot"
   ]
  },
  {
   "cell_type": "code",
   "execution_count": 23,
   "metadata": {},
   "outputs": [
    {
     "data": {
      "image/png": "[encoded data removed]",
      "text/plain": [
       "<Figure size 640x480 with 1 Axes>"
      ]
     },
     "metadata": {},
     "output_type": "display_data"
    }
   ],
   "source": [
    "import matplotlib.pyplot as plt\n",
    "plt.scatter(df3[\"Stock Turn\"], df3[\"Count_Sold\"])\n",
    "plt.title(\"Boxplot Example\")\n",
    "plt.ylabel(\"Values\")\n",
    "plt.show()"
   ]
  },
  {
   "cell_type": "code",
   "execution_count": 16,
   "metadata": {},
   "outputs": [],
   "source": [
    "df3 = df3.dropna(axis=0, how='any', inplace=False)"
   ]
  },
  {
   "cell_type": "code",
   "execution_count": null,
   "metadata": {},
   "outputs": [],
   "source": []
  }
 ],
 "metadata": {
  "kernelspec": {
   "display_name": "venv",
   "language": "python",
   "name": "python3"
  },
  "language_info": {
   "codemirror_mode": {
    "name": "ipython",
    "version": 3
   },
   "file_extension": ".py",
   "mimetype": "text/x-python",
   "name": "python",
   "nbconvert_exporter": "python",
   "pygments_lexer": "ipython3",
   "version": "3.10.9"
  }
 },
 "nbformat": 4,
 "nbformat_minor": 2
}
